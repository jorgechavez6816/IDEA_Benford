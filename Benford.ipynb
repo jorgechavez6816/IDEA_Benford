{
 "cells": [
  {
   "cell_type": "code",
   "execution_count": 1,
   "metadata": {},
   "outputs": [],
   "source": [
    "import win32com.client as win32ComClient\n",
    "\n",
    "if __name__ == \"__main__\":\n",
    "    try:\n",
    "        FIRST1DIGIT_ANALYSIS = 1\n",
    "        FIRST2DIGIT_ANALYSIS = 2\n",
    "        FIRST3DIGIT_ANALYSIS = 4\n",
    "        SECONDDIGIT_ANALYSIS = 8\n",
    "        LAST2DIGIT_ANALYSIS = 16\n",
    "        SECONDORDER_ANALYSIS = 32\n",
    "        SUMMATION_ANALYSIS = 64\n",
    "        POSITIVE_VALUES = 0\n",
    "        NEGATIVE_VALUES = 1\n",
    "\n",
    "        dbName = \"Ejemplo-Detalle de ventas.IMD\"\n",
    "        idea = win32ComClient.Dispatch(dispatch=\"Idea.IdeaClient\")\n",
    "        db = idea.OpenDatabase(dbName)\n",
    "        task = db.BenfordsLaw()\n",
    "        task.FieldToUse = \"TOTAL\"\n",
    "        task.ValueType = POSITIVE_VALUES\n",
    "        task.CheckBoundaries = True\n",
    "        task.MADConclusion = True\n",
    "        resultDbName = \"Benford_primer_digito.IMD\"\n",
    "        task.AddAnalysis(FIRST1DIGIT_ANALYSIS,resultDbName)\n",
    "        task.PerformTask()\n",
    "        idea.OpenDatabase(resultDbName)\n",
    "    finally:\n",
    "        task = None\n",
    "        db = None\n",
    "        idea = None\n",
    "\n",
    "\n",
    "\n"
   ]
  },
  {
   "cell_type": "code",
   "execution_count": null,
   "metadata": {},
   "outputs": [],
   "source": []
  }
 ],
 "metadata": {
  "kernelspec": {
   "display_name": "Python 3",
   "language": "python",
   "name": "python3"
  },
  "language_info": {
   "codemirror_mode": {
    "name": "ipython",
    "version": 3
   },
   "file_extension": ".py",
   "mimetype": "text/x-python",
   "name": "python",
   "nbconvert_exporter": "python",
   "pygments_lexer": "ipython3",
   "version": "3.7.6"
  }
 },
 "nbformat": 4,
 "nbformat_minor": 4
}
